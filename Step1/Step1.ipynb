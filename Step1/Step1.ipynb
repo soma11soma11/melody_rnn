{
 "cells": [
  {
   "cell_type": "markdown",
   "metadata": {},
   "source": [
    "# Create Dataset"
   ]
  },
  {
   "cell_type": "markdown",
   "metadata": {},
   "source": [
    "#### Convert MIDI file to NoteSequences. NoteSequences are protocol buffers, which is a fast and efficient data format, and easier to work with than MIDI files. "
   ]
  },
  {
   "cell_type": "raw",
   "metadata": {},
   "source": [
    "INPUT_DIRECTORY=<folder containing MIDI and/or MusicXML files. can have child folders.>\n",
    "\n",
    "# TFRecord file that will contain NoteSequence protocol buffers.\n",
    "SEQUENCES_TFRECORD=/tmp/notesequences.tfrecord\n",
    "\n",
    "convert_dir_to_note_sequences \\\n",
    "  --input_dir=$INPUT_DIRECTORY \\\n",
    "  --output_file=$SEQUENCES_TFRECORD \\\n",
    "  --recursive"
   ]
  },
  {
   "cell_type": "markdown",
   "metadata": {},
   "source": [
    "#### Extract melodies from our NoteSequences and save them as SequenceExamples. Two collections of SequenceExamples will be generated, one for training, and one for evaluation, where the fraction of SequenceExamples in the evaluation set is determined by --eval_ratio. With an eval ratio of 0.10, 10% of the extracted melodies will be saved in the eval collection, and 90% will be saved in the training collection."
   ]
  },
  {
   "cell_type": "raw",
   "metadata": {},
   "source": [
    "melody_rnn_create_dataset \\\n",
    "--config='basic_rnn' \\\n",
    "--input=/tmp/notesequences.tfrecord \\\n",
    "--output_dir=/tmp/melody_rnn/sequence_examples \\\n",
    "--eval_ratio=0.10"
   ]
  }
 ],
 "metadata": {
  "kernelspec": {
   "display_name": "Python 3",
   "language": "python",
   "name": "python3"
  },
  "language_info": {
   "codemirror_mode": {
    "name": "ipython",
    "version": 3
   },
   "file_extension": ".py",
   "mimetype": "text/x-python",
   "name": "python",
   "nbconvert_exporter": "python",
   "pygments_lexer": "ipython3",
   "version": "3.6.1"
  }
 },
 "nbformat": 4,
 "nbformat_minor": 2
}
